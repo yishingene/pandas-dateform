{
 "cells": [
  {
   "cell_type": "code",
   "execution_count": 3,
   "metadata": {},
   "outputs": [
    {
     "data": {
      "text/plain": [
       "datetime.datetime(2018, 2, 9, 0, 0)"
      ]
     },
     "execution_count": 3,
     "metadata": {},
     "output_type": "execute_result"
    }
   ],
   "source": [
    "# 日期轉換\n",
    "import math\n",
    "from datetime import datetime\n",
    "from datetime import date\n",
    "x = '107.02.09'\n",
    "def im_date(x):\n",
    "    y= str(float(str(x)[0:3])+1911)[0:4]+str(x)[4:6]+str(x)[7:9]\n",
    "    z = datetime.strptime(y, '%Y%m%d')\n",
    "    return z\n",
    "im_date(x)"
   ]
  },
  {
   "cell_type": "code",
   "execution_count": 7,
   "metadata": {},
   "outputs": [
    {
     "data": {
      "text/plain": [
       "datetime.datetime(2017, 1, 2, 0, 0)"
      ]
     },
     "execution_count": 7,
     "metadata": {},
     "output_type": "execute_result"
    }
   ],
   "source": [
    "y='20170102'\n",
    "z = datetime.strptime(y, '%Y%m%d')\n",
    "# delta = z-date.today()\n",
    "date.today()\n",
    "z\n"
   ]
  },
  {
   "cell_type": "code",
   "execution_count": null,
   "metadata": {
    "collapsed": true
   },
   "outputs": [],
   "source": [
    "course_all['剩幾天'] = course_all['日期時間']-date.today()"
   ]
  },
  {
   "cell_type": "code",
   "execution_count": null,
   "metadata": {
    "collapsed": true
   },
   "outputs": [],
   "source": [
    "course_all['剩幾天'] = course_all['日期時間']-date.today()\n",
    "course_all[course_all['剩幾天'].astype('timedelta64[D]') >= 0]"
   ]
  }
 ],
 "metadata": {
  "kernelspec": {
   "display_name": "Python 3",
   "language": "python",
   "name": "python3"
  },
  "language_info": {
   "codemirror_mode": {
    "name": "ipython",
    "version": 3
   },
   "file_extension": ".py",
   "mimetype": "text/x-python",
   "name": "python",
   "nbconvert_exporter": "python",
   "pygments_lexer": "ipython3",
   "version": "3.6.1"
  }
 },
 "nbformat": 4,
 "nbformat_minor": 2
}

{
 "cells": [
  {
   "cell_type": "code",
   "execution_count": null,
   "metadata": {
    "collapsed": true
   },
   "outputs": [],
   "source": [
    "# 內科日期轉換\n",
    "import math\n",
    "from datetime import datetime\n",
    "x = '107.02.09'\n",
    "def im_date(x):\n",
    "    y= str(float(str(x)[0:3])+1911)[0:4]+str(x)[4:6]+str(x)[7:9]\n",
    "    z = datetime.strptime(y, '%Y%m%d')\n",
    "    return z\n",
    "im_date(x)"
   ]
  }
 ],
 "metadata": {
  "kernelspec": {
   "display_name": "Python 3",
   "language": "python",
   "name": "python3"
  },
  "language_info": {
   "codemirror_mode": {
    "name": "ipython",
    "version": 3
   },
   "file_extension": ".py",
   "mimetype": "text/x-python",
   "name": "python",
   "nbconvert_exporter": "python",
   "pygments_lexer": "ipython3",
   "version": "3.6.1"
  }
 },
 "nbformat": 4,
 "nbformat_minor": 2
}
